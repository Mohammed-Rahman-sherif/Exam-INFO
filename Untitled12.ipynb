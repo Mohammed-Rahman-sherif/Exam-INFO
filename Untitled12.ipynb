{
 "cells": [
  {
   "cell_type": "code",
   "execution_count": 1,
   "metadata": {
    "id": "VZsLagxU-iVI"
   },
   "outputs": [],
   "source": [
    "import sqlite3"
   ]
  },
  {
   "cell_type": "code",
   "execution_count": 2,
   "metadata": {
    "id": "vrM0d21C_FZO"
   },
   "outputs": [],
   "source": [
    "dbname=\"jobinfo\""
   ]
  },
  {
   "cell_type": "code",
   "execution_count": 3,
   "metadata": {
    "id": "Qt1Og-7j_KX3"
   },
   "outputs": [],
   "source": [
    "conn=sqlite3.connect(dbname+\".db\")"
   ]
  },
  {
   "cell_type": "code",
   "execution_count": 4,
   "metadata": {
    "id": "wggT4Q8p_Rl-"
   },
   "outputs": [
    {
     "name": "stderr",
     "output_type": "stream",
     "text": [
      "C:\\Users\\smart\\Anaconda3\\envs\\workspace\\lib\\site-packages\\numpy\\_distributor_init.py:32: UserWarning: loaded more than 1 DLL from .libs:\n",
      "C:\\Users\\smart\\Anaconda3\\envs\\workspace\\lib\\site-packages\\numpy\\.libs\\libopenblas.PYQHXLVVQ7VESDPUVUADXEVJOBGHJPAY.gfortran-win_amd64.dll\n",
      "C:\\Users\\smart\\Anaconda3\\envs\\workspace\\lib\\site-packages\\numpy\\.libs\\libopenblas.QVLO2T66WEPI7JZ63PS3HMOHFEY472BC.gfortran-win_amd64.dll\n",
      "  stacklevel=1)\n"
     ]
    }
   ],
   "source": [
    "import pandas as pd\n",
    "import numpy as np\n",
    "\n"
   ]
  },
  {
   "cell_type": "code",
   "execution_count": 5,
   "metadata": {
    "id": "-Eh3IiwG_alo"
   },
   "outputs": [],
   "source": [
    "df=pd.read_excel(\"Job_info_app.xlsx\", engine = 'openpyxl')"
   ]
  },
  {
   "cell_type": "code",
   "execution_count": 6,
   "metadata": {
    "colab": {
     "base_uri": "https://localhost:8080/"
    },
    "id": "QyStTQ5YAkcH",
    "outputId": "41e6d7f7-02d1-4c39-b1ed-6541b65df5c1"
   },
   "outputs": [
    {
     "data": {
      "text/plain": [
       "Index(['JOB Title', 'Exam conducting body', 'Minimum Qualification',\n",
       "       'Salary Range', 'minimum age', 'maximum age', 'caste based allowance',\n",
       "       'MODE OF EXAMINATION', 'APPLICATION FEE', 'Stages', 'PHYSICAL TEST ',\n",
       "       'OFFICIAL WEBSITE', 'FIELD OF EXAM', 'ATTEMPTS', 'HANDICAPPED-ATTEMPTS',\n",
       "       'Unnamed: 15', 'Unnamed: 16', 'Unnamed: 17', 'Unnamed: 18',\n",
       "       'Unnamed: 19', 'Unnamed: 20', 'Unnamed: 21'],\n",
       "      dtype='object')"
      ]
     },
     "execution_count": 6,
     "metadata": {},
     "output_type": "execute_result"
    }
   ],
   "source": [
    "df.columns"
   ]
  },
  {
   "cell_type": "code",
   "execution_count": 7,
   "metadata": {
    "id": "PXR6ZzKbAlP0"
   },
   "outputs": [],
   "source": [
    "newname=df.rename(columns={\"JOB Title\":\"Exam\",\"Exam conducting body\":\"Organisation\",\"Minimum Qualification\":\"Qualification\",'Salary Range':\"Salary\",'minimum age':\"Minage\",'maximum age':\"Maxage\",'caste based allowance':\"Allowance\",'MODE OF EXAMINATION':\"ExamMode\",\"APPLICATION FEE\":\"Fee\",\"Stages\":\"Level\",'PHYSICAL TEST ':\"Ptest\",\"OFFICIAL WEBSITE\":\"Website\",\"FIELD OF EXAM\":\"Fields\",\"ATTEMPTS\":\"Attempts\",'HANDICAPPED-ATTEMPTS':\"Pattempts\"})"
   ]
  },
  {
   "cell_type": "code",
   "execution_count": 8,
   "metadata": {
    "colab": {
     "base_uri": "https://localhost:8080/"
    },
    "id": "sz6VAWOGB3ys",
    "outputId": "75240339-6602-425b-f381-57e5f7713fdb"
   },
   "outputs": [
    {
     "data": {
      "text/plain": [
       "Index(['Exam', 'Organisation', 'Qualification', 'Salary', 'Minage', 'Maxage',\n",
       "       'Allowance', 'ExamMode', 'Fee', 'Level', 'Ptest', 'Website', 'Fields',\n",
       "       'Attempts', 'Pattempts', 'Unnamed: 15', 'Unnamed: 16', 'Unnamed: 17',\n",
       "       'Unnamed: 18', 'Unnamed: 19', 'Unnamed: 20', 'Unnamed: 21'],\n",
       "      dtype='object')"
      ]
     },
     "execution_count": 8,
     "metadata": {},
     "output_type": "execute_result"
    }
   ],
   "source": [
    "newname.columns"
   ]
  },
  {
   "cell_type": "code",
   "execution_count": 9,
   "metadata": {
    "id": "0AMbyGPyDoPI"
   },
   "outputs": [],
   "source": [
    "newname.to_csv(\"exams.csv\")"
   ]
  },
  {
   "cell_type": "code",
   "execution_count": null,
   "metadata": {
    "id": "4HizfqzoVJZz"
   },
   "outputs": [],
   "source": []
  },
  {
   "cell_type": "code",
   "execution_count": 10,
   "metadata": {
    "id": "IVV9m4BTEHW1"
   },
   "outputs": [],
   "source": [
    "dfg=pd.read_csv(\"exams.csv\")"
   ]
  },
  {
   "cell_type": "code",
   "execution_count": 11,
   "metadata": {
    "colab": {
     "base_uri": "https://localhost:8080/"
    },
    "id": "7zp4BfEgVLZj",
    "outputId": "850644e3-8275-4b1d-db8f-0fe3f9e4ad63"
   },
   "outputs": [
    {
     "data": {
      "text/plain": [
       "Index(['Unnamed: 0', 'Exam', 'Organisation', 'Qualification', 'Salary',\n",
       "       'Minage', 'Maxage', 'Allowance', 'ExamMode', 'Fee', 'Level', 'Ptest',\n",
       "       'Website', 'Fields', 'Attempts', 'Pattempts', 'Unnamed: 15',\n",
       "       'Unnamed: 16', 'Unnamed: 17', 'Unnamed: 18', 'Unnamed: 19',\n",
       "       'Unnamed: 20', 'Unnamed: 21'],\n",
       "      dtype='object')"
      ]
     },
     "execution_count": 11,
     "metadata": {},
     "output_type": "execute_result"
    }
   ],
   "source": [
    "dfg.columns"
   ]
  },
  {
   "cell_type": "code",
   "execution_count": 12,
   "metadata": {
    "id": "IRCIXP2OaA0i"
   },
   "outputs": [],
   "source": [
    "dfg['Minage']=dfg['Minage'].replace(\"NIL\",0)\n",
    "dfg[\"Maxage\"]=dfg[\"Maxage\"].replace(\"NIL\",0)\n",
    "dfg[\"Maxage\"]=dfg[\"Maxage\"].replace(\"na\",0)\n",
    "dfg[\"Minage\"]=dfg['Minage'].fillna(0)\n",
    "dfg[\"Maxage\"]=dfg[\"Maxage\"].fillna(0)"
   ]
  },
  {
   "cell_type": "code",
   "execution_count": 13,
   "metadata": {
    "id": "wmGCDCoddVmN"
   },
   "outputs": [],
   "source": [
    "dfg=dfg.drop(\"Unnamed: 0\",1)"
   ]
  },
  {
   "cell_type": "code",
   "execution_count": 14,
   "metadata": {
    "id": "SpP1Vg2QL0bQ"
   },
   "outputs": [
    {
     "data": {
      "text/html": [
       "<div>\n",
       "<style scoped>\n",
       "    .dataframe tbody tr th:only-of-type {\n",
       "        vertical-align: middle;\n",
       "    }\n",
       "\n",
       "    .dataframe tbody tr th {\n",
       "        vertical-align: top;\n",
       "    }\n",
       "\n",
       "    .dataframe thead th {\n",
       "        text-align: right;\n",
       "    }\n",
       "</style>\n",
       "<table border=\"1\" class=\"dataframe\">\n",
       "  <thead>\n",
       "    <tr style=\"text-align: right;\">\n",
       "      <th></th>\n",
       "      <th>Exam</th>\n",
       "      <th>Organisation</th>\n",
       "      <th>Qualification</th>\n",
       "      <th>Salary</th>\n",
       "      <th>Minage</th>\n",
       "      <th>Maxage</th>\n",
       "      <th>Allowance</th>\n",
       "      <th>ExamMode</th>\n",
       "      <th>Fee</th>\n",
       "      <th>Level</th>\n",
       "      <th>Ptest</th>\n",
       "      <th>Website</th>\n",
       "      <th>Fields</th>\n",
       "      <th>Attempts</th>\n",
       "      <th>Pattempts</th>\n",
       "    </tr>\n",
       "  </thead>\n",
       "  <tbody>\n",
       "    <tr>\n",
       "      <th>0</th>\n",
       "      <td>Indian administrative Service</td>\n",
       "      <td>UPSC</td>\n",
       "      <td>Degree</td>\n",
       "      <td>56,000-2,50,000</td>\n",
       "      <td>21</td>\n",
       "      <td>32</td>\n",
       "      <td>General(32),OBC(35),SC/ST(37),Disabled Defence...</td>\n",
       "      <td>Offline</td>\n",
       "      <td>Rs 100</td>\n",
       "      <td>Prelims,Descriptive,Interview</td>\n",
       "      <td>NIL</td>\n",
       "      <td>https://www.upsc.gov.in/</td>\n",
       "      <td>Sub Divisional Officer,Divisional Commissioner...</td>\n",
       "      <td>GENERAL(6),OBC(9),SC/ST(No restriction)</td>\n",
       "      <td>General(9),OBC(9),SC/ST(No restriction)</td>\n",
       "    </tr>\n",
       "    <tr>\n",
       "      <th>1</th>\n",
       "      <td>Indian Forest Service</td>\n",
       "      <td>UPSC</td>\n",
       "      <td>Degree</td>\n",
       "      <td>60,000-2,50,000</td>\n",
       "      <td>21</td>\n",
       "      <td>30</td>\n",
       "      <td>SC/ST(35),OBC(33),Jammu kasmir(35),Defence(35)...</td>\n",
       "      <td>Offline</td>\n",
       "      <td>Rs 100</td>\n",
       "      <td>Prelims,Mains,Personality test</td>\n",
       "      <td>NIL</td>\n",
       "      <td>http://ifs.nic.in/</td>\n",
       "      <td>Assistant Conservator of Forests/Asst. Dy. Con...</td>\n",
       "      <td>GENERAL(6),OBC(9),SC/ST(No restriction)</td>\n",
       "      <td>General(9),OBC(9),SC/ST(No restriction)</td>\n",
       "    </tr>\n",
       "    <tr>\n",
       "      <th>2</th>\n",
       "      <td>Indian Police Service</td>\n",
       "      <td>UPSC</td>\n",
       "      <td>Degree</td>\n",
       "      <td>60,000-2,50,001</td>\n",
       "      <td>21</td>\n",
       "      <td>32</td>\n",
       "      <td>SC/ST(37),OBS(35),GENERAL(32)</td>\n",
       "      <td>Offline</td>\n",
       "      <td>Rs 100</td>\n",
       "      <td>Prelims,Mains,Personality test</td>\n",
       "      <td>Yes</td>\n",
       "      <td>ips.gov.in</td>\n",
       "      <td>Deputy Superintendent of Police,Senior Superin...</td>\n",
       "      <td>GENERAL(6),OBC(9),SC/ST(No restriction)</td>\n",
       "      <td>General(9),OBC(9),SC/ST(No restriction)</td>\n",
       "    </tr>\n",
       "    <tr>\n",
       "      <th>3</th>\n",
       "      <td>Indian Railway Traffic Service</td>\n",
       "      <td>UPSC</td>\n",
       "      <td>Degree</td>\n",
       "      <td>30,000-1,25,000</td>\n",
       "      <td>21</td>\n",
       "      <td>32</td>\n",
       "      <td>SC/ST(37),OBC(35),GENERAL(32),DEFENCE(35),EX-S...</td>\n",
       "      <td>Offline</td>\n",
       "      <td>Rs 100</td>\n",
       "      <td>Prelims,Descriptive,Interview</td>\n",
       "      <td>yes</td>\n",
       "      <td>http://www.irts.org.in/</td>\n",
       "      <td>Assistant Commercial Manager,Senior Divisional...</td>\n",
       "      <td>GENERAL(6),OBC(9),SC/ST(No restriction)</td>\n",
       "      <td>General(9),OBC(9),SC/ST(No restriction)</td>\n",
       "    </tr>\n",
       "    <tr>\n",
       "      <th>4</th>\n",
       "      <td>Indian Railway accounts service</td>\n",
       "      <td>UPSC</td>\n",
       "      <td>Degree</td>\n",
       "      <td>15,000-80,000</td>\n",
       "      <td>21</td>\n",
       "      <td>32</td>\n",
       "      <td>SC/ST(37),OBC(35),GENERAL(32),DEFENCE(35),EX-S...</td>\n",
       "      <td>Offline</td>\n",
       "      <td>Rs 100</td>\n",
       "      <td>Prelims,Mains,Personality test</td>\n",
       "      <td>NIL</td>\n",
       "      <td>NIL</td>\n",
       "      <td>Assistant divisional accounts officer,Division...</td>\n",
       "      <td>GENERAL(6),OBC(9),SC/ST(No restriction)</td>\n",
       "      <td>General(9),OBC(9),SC/ST(No restriction)</td>\n",
       "    </tr>\n",
       "    <tr>\n",
       "      <th>...</th>\n",
       "      <td>...</td>\n",
       "      <td>...</td>\n",
       "      <td>...</td>\n",
       "      <td>...</td>\n",
       "      <td>...</td>\n",
       "      <td>...</td>\n",
       "      <td>...</td>\n",
       "      <td>...</td>\n",
       "      <td>...</td>\n",
       "      <td>...</td>\n",
       "      <td>...</td>\n",
       "      <td>...</td>\n",
       "      <td>...</td>\n",
       "      <td>...</td>\n",
       "      <td>...</td>\n",
       "    </tr>\n",
       "    <tr>\n",
       "      <th>994</th>\n",
       "      <td>NaN</td>\n",
       "      <td>NaN</td>\n",
       "      <td>NaN</td>\n",
       "      <td>NaN</td>\n",
       "      <td>0</td>\n",
       "      <td>0</td>\n",
       "      <td>NaN</td>\n",
       "      <td>NaN</td>\n",
       "      <td>NaN</td>\n",
       "      <td>NaN</td>\n",
       "      <td>NaN</td>\n",
       "      <td>NaN</td>\n",
       "      <td>NaN</td>\n",
       "      <td>NaN</td>\n",
       "      <td>NaN</td>\n",
       "    </tr>\n",
       "    <tr>\n",
       "      <th>995</th>\n",
       "      <td>NaN</td>\n",
       "      <td>NaN</td>\n",
       "      <td>NaN</td>\n",
       "      <td>NaN</td>\n",
       "      <td>0</td>\n",
       "      <td>0</td>\n",
       "      <td>NaN</td>\n",
       "      <td>NaN</td>\n",
       "      <td>NaN</td>\n",
       "      <td>NaN</td>\n",
       "      <td>NaN</td>\n",
       "      <td>NaN</td>\n",
       "      <td>NaN</td>\n",
       "      <td>NaN</td>\n",
       "      <td>NaN</td>\n",
       "    </tr>\n",
       "    <tr>\n",
       "      <th>996</th>\n",
       "      <td>NaN</td>\n",
       "      <td>NaN</td>\n",
       "      <td>NaN</td>\n",
       "      <td>NaN</td>\n",
       "      <td>0</td>\n",
       "      <td>0</td>\n",
       "      <td>NaN</td>\n",
       "      <td>NaN</td>\n",
       "      <td>NaN</td>\n",
       "      <td>NaN</td>\n",
       "      <td>NaN</td>\n",
       "      <td>NaN</td>\n",
       "      <td>NaN</td>\n",
       "      <td>NaN</td>\n",
       "      <td>NaN</td>\n",
       "    </tr>\n",
       "    <tr>\n",
       "      <th>997</th>\n",
       "      <td>NaN</td>\n",
       "      <td>NaN</td>\n",
       "      <td>NaN</td>\n",
       "      <td>NaN</td>\n",
       "      <td>0</td>\n",
       "      <td>0</td>\n",
       "      <td>NaN</td>\n",
       "      <td>NaN</td>\n",
       "      <td>NaN</td>\n",
       "      <td>NaN</td>\n",
       "      <td>NaN</td>\n",
       "      <td>NaN</td>\n",
       "      <td>NaN</td>\n",
       "      <td>NaN</td>\n",
       "      <td>NaN</td>\n",
       "    </tr>\n",
       "    <tr>\n",
       "      <th>998</th>\n",
       "      <td>NaN</td>\n",
       "      <td>NaN</td>\n",
       "      <td>NaN</td>\n",
       "      <td>NaN</td>\n",
       "      <td>0</td>\n",
       "      <td>0</td>\n",
       "      <td>NaN</td>\n",
       "      <td>NaN</td>\n",
       "      <td>NaN</td>\n",
       "      <td>NaN</td>\n",
       "      <td>NaN</td>\n",
       "      <td>NaN</td>\n",
       "      <td>NaN</td>\n",
       "      <td>NaN</td>\n",
       "      <td>NaN</td>\n",
       "    </tr>\n",
       "  </tbody>\n",
       "</table>\n",
       "<p>999 rows × 15 columns</p>\n",
       "</div>"
      ],
      "text/plain": [
       "                                Exam Organisation Qualification  \\\n",
       "0      Indian administrative Service         UPSC        Degree   \n",
       "1              Indian Forest Service         UPSC        Degree   \n",
       "2              Indian Police Service         UPSC        Degree   \n",
       "3     Indian Railway Traffic Service         UPSC        Degree   \n",
       "4    Indian Railway accounts service         UPSC        Degree   \n",
       "..                               ...          ...           ...   \n",
       "994                              NaN          NaN           NaN   \n",
       "995                              NaN          NaN           NaN   \n",
       "996                              NaN          NaN           NaN   \n",
       "997                              NaN          NaN           NaN   \n",
       "998                              NaN          NaN           NaN   \n",
       "\n",
       "              Salary Minage Maxage  \\\n",
       "0    56,000-2,50,000     21     32   \n",
       "1    60,000-2,50,000     21     30   \n",
       "2    60,000-2,50,001     21     32   \n",
       "3    30,000-1,25,000     21     32   \n",
       "4      15,000-80,000     21     32   \n",
       "..               ...    ...    ...   \n",
       "994              NaN      0      0   \n",
       "995              NaN      0      0   \n",
       "996              NaN      0      0   \n",
       "997              NaN      0      0   \n",
       "998              NaN      0      0   \n",
       "\n",
       "                                             Allowance ExamMode     Fee  \\\n",
       "0    General(32),OBC(35),SC/ST(37),Disabled Defence...  Offline  Rs 100   \n",
       "1    SC/ST(35),OBC(33),Jammu kasmir(35),Defence(35)...  Offline  Rs 100   \n",
       "2                        SC/ST(37),OBS(35),GENERAL(32)  Offline  Rs 100   \n",
       "3    SC/ST(37),OBC(35),GENERAL(32),DEFENCE(35),EX-S...  Offline  Rs 100   \n",
       "4    SC/ST(37),OBC(35),GENERAL(32),DEFENCE(35),EX-S...  Offline  Rs 100   \n",
       "..                                                 ...      ...     ...   \n",
       "994                                                NaN      NaN     NaN   \n",
       "995                                                NaN      NaN     NaN   \n",
       "996                                                NaN      NaN     NaN   \n",
       "997                                                NaN      NaN     NaN   \n",
       "998                                                NaN      NaN     NaN   \n",
       "\n",
       "                              Level Ptest                   Website  \\\n",
       "0     Prelims,Descriptive,Interview   NIL  https://www.upsc.gov.in/   \n",
       "1    Prelims,Mains,Personality test   NIL        http://ifs.nic.in/   \n",
       "2    Prelims,Mains,Personality test   Yes                ips.gov.in   \n",
       "3     Prelims,Descriptive,Interview   yes   http://www.irts.org.in/   \n",
       "4    Prelims,Mains,Personality test   NIL                       NIL   \n",
       "..                              ...   ...                       ...   \n",
       "994                             NaN   NaN                       NaN   \n",
       "995                             NaN   NaN                       NaN   \n",
       "996                             NaN   NaN                       NaN   \n",
       "997                             NaN   NaN                       NaN   \n",
       "998                             NaN   NaN                       NaN   \n",
       "\n",
       "                                                Fields  \\\n",
       "0    Sub Divisional Officer,Divisional Commissioner...   \n",
       "1    Assistant Conservator of Forests/Asst. Dy. Con...   \n",
       "2    Deputy Superintendent of Police,Senior Superin...   \n",
       "3    Assistant Commercial Manager,Senior Divisional...   \n",
       "4    Assistant divisional accounts officer,Division...   \n",
       "..                                                 ...   \n",
       "994                                                NaN   \n",
       "995                                                NaN   \n",
       "996                                                NaN   \n",
       "997                                                NaN   \n",
       "998                                                NaN   \n",
       "\n",
       "                                    Attempts  \\\n",
       "0    GENERAL(6),OBC(9),SC/ST(No restriction)   \n",
       "1    GENERAL(6),OBC(9),SC/ST(No restriction)   \n",
       "2    GENERAL(6),OBC(9),SC/ST(No restriction)   \n",
       "3    GENERAL(6),OBC(9),SC/ST(No restriction)   \n",
       "4    GENERAL(6),OBC(9),SC/ST(No restriction)   \n",
       "..                                       ...   \n",
       "994                                      NaN   \n",
       "995                                      NaN   \n",
       "996                                      NaN   \n",
       "997                                      NaN   \n",
       "998                                      NaN   \n",
       "\n",
       "                                   Pattempts  \n",
       "0    General(9),OBC(9),SC/ST(No restriction)  \n",
       "1    General(9),OBC(9),SC/ST(No restriction)  \n",
       "2    General(9),OBC(9),SC/ST(No restriction)  \n",
       "3    General(9),OBC(9),SC/ST(No restriction)  \n",
       "4    General(9),OBC(9),SC/ST(No restriction)  \n",
       "..                                       ...  \n",
       "994                                      NaN  \n",
       "995                                      NaN  \n",
       "996                                      NaN  \n",
       "997                                      NaN  \n",
       "998                                      NaN  \n",
       "\n",
       "[999 rows x 15 columns]"
      ]
     },
     "execution_count": 14,
     "metadata": {},
     "output_type": "execute_result"
    }
   ],
   "source": [
    "dfg.drop(columns = ['Unnamed: 15','Unnamed: 16','Unnamed: 17','Unnamed: 18','Unnamed: 19','Unnamed: 20','Unnamed: 21'])"
   ]
  },
  {
   "cell_type": "code",
   "execution_count": 15,
   "metadata": {
    "colab": {
     "base_uri": "https://localhost:8080/"
    },
    "id": "2udMeJolZG2s",
    "outputId": "91f4f72f-dcdc-4b4a-91f7-5b40bcc68ed4"
   },
   "outputs": [
    {
     "data": {
      "text/plain": [
       "0      32\n",
       "1      30\n",
       "2      32\n",
       "3      32\n",
       "4      32\n",
       "       ..\n",
       "994     0\n",
       "995     0\n",
       "996     0\n",
       "997     0\n",
       "998     0\n",
       "Name: Maxage, Length: 999, dtype: object"
      ]
     },
     "execution_count": 15,
     "metadata": {},
     "output_type": "execute_result"
    }
   ],
   "source": [
    "dfg['Maxage']"
   ]
  },
  {
   "cell_type": "code",
   "execution_count": 16,
   "metadata": {
    "colab": {
     "base_uri": "https://localhost:8080/"
    },
    "id": "eYGvhBMtbAiP",
    "outputId": "b4c961d4-07f7-4673-9d5a-888e5fb57177"
   },
   "outputs": [
    {
     "data": {
      "text/plain": [
       "Exam              object\n",
       "Organisation      object\n",
       "Qualification     object\n",
       "Salary            object\n",
       "Minage            object\n",
       "Maxage             int64\n",
       "Allowance         object\n",
       "ExamMode          object\n",
       "Fee               object\n",
       "Level             object\n",
       "Ptest             object\n",
       "Website           object\n",
       "Fields            object\n",
       "Attempts          object\n",
       "Pattempts         object\n",
       "Unnamed: 15      float64\n",
       "Unnamed: 16      float64\n",
       "Unnamed: 17      float64\n",
       "Unnamed: 18      float64\n",
       "Unnamed: 19      float64\n",
       "Unnamed: 20      float64\n",
       "Unnamed: 21      float64\n",
       "dtype: object"
      ]
     },
     "execution_count": 16,
     "metadata": {},
     "output_type": "execute_result"
    }
   ],
   "source": [
    "dfg.astype({\"Minage\":\"int64\"}).dtypes\n",
    "dfg.astype({\"Maxage\":\"int64\"}).dtypes"
   ]
  },
  {
   "cell_type": "code",
   "execution_count": 17,
   "metadata": {
    "colab": {
     "base_uri": "https://localhost:8080/"
    },
    "id": "v4t4sxFrb6jU",
    "outputId": "cee7e665-ccf6-4209-9eb1-3b92a3910743"
   },
   "outputs": [
    {
     "data": {
      "text/plain": [
       "Exam              object\n",
       "Organisation      object\n",
       "Qualification     object\n",
       "Salary            object\n",
       "Minage            object\n",
       "Maxage            object\n",
       "Allowance         object\n",
       "ExamMode          object\n",
       "Fee               object\n",
       "Level             object\n",
       "Ptest             object\n",
       "Website           object\n",
       "Fields            object\n",
       "Attempts          object\n",
       "Pattempts         object\n",
       "Unnamed: 15      float64\n",
       "Unnamed: 16      float64\n",
       "Unnamed: 17      float64\n",
       "Unnamed: 18      float64\n",
       "Unnamed: 19      float64\n",
       "Unnamed: 20      float64\n",
       "Unnamed: 21      float64\n",
       "dtype: object"
      ]
     },
     "execution_count": 17,
     "metadata": {},
     "output_type": "execute_result"
    }
   ],
   "source": [
    "dfg.dtypes"
   ]
  },
  {
   "cell_type": "code",
   "execution_count": 18,
   "metadata": {
    "colab": {
     "base_uri": "https://localhost:8080/"
    },
    "id": "xFUtUD2QWhs3",
    "outputId": "95eb8552-9b14-4ce1-d5c7-c6dc90807077"
   },
   "outputs": [
    {
     "data": {
      "text/plain": [
       "Exam              object\n",
       "Organisation      object\n",
       "Qualification     object\n",
       "Salary            object\n",
       "Minage            object\n",
       "Maxage            object\n",
       "Allowance         object\n",
       "ExamMode          object\n",
       "Fee               object\n",
       "Level             object\n",
       "Ptest             object\n",
       "Website           object\n",
       "Fields            object\n",
       "Attempts          object\n",
       "Pattempts         object\n",
       "Unnamed: 15      float64\n",
       "Unnamed: 16      float64\n",
       "Unnamed: 17      float64\n",
       "Unnamed: 18      float64\n",
       "Unnamed: 19      float64\n",
       "Unnamed: 20      float64\n",
       "Unnamed: 21      float64\n",
       "dtype: object"
      ]
     },
     "execution_count": 18,
     "metadata": {},
     "output_type": "execute_result"
    }
   ],
   "source": [
    "dfg.dtypes"
   ]
  },
  {
   "cell_type": "code",
   "execution_count": null,
   "metadata": {
    "id": "7PVOl-6YIONN"
   },
   "outputs": [],
   "source": []
  },
  {
   "cell_type": "code",
   "execution_count": 19,
   "metadata": {
    "id": "mg5pS6xVHg2t"
   },
   "outputs": [
    {
     "name": "stderr",
     "output_type": "stream",
     "text": [
      "C:\\Users\\smart\\Anaconda3\\envs\\workspace\\lib\\site-packages\\pandas\\core\\generic.py:2615: UserWarning: The spaces in these column names will not be changed. In pandas versions < 0.14, spaces were converted to underscores.\n",
      "  method=method,\n"
     ]
    }
   ],
   "source": [
    "dfg.to_sql(name=\"Table1\",con=conn,if_exists=\"append\")"
   ]
  },
  {
   "cell_type": "code",
   "execution_count": 20,
   "metadata": {
    "id": "m9KSqkyJJAAL"
   },
   "outputs": [],
   "source": [
    "cns=sqlite3.connect(\"jobinfo.db\")"
   ]
  },
  {
   "cell_type": "code",
   "execution_count": 21,
   "metadata": {
    "id": "pSJYNzAEJqDD"
   },
   "outputs": [],
   "source": [
    "crsc=cns.cursor()"
   ]
  },
  {
   "cell_type": "code",
   "execution_count": 22,
   "metadata": {
    "colab": {
     "base_uri": "https://localhost:8080/"
    },
    "id": "vppnpNsSJ0IQ",
    "outputId": "de1b58ce-c71f-41e5-bad2-6bda5332aafe"
   },
   "outputs": [
    {
     "data": {
      "text/plain": [
       "<sqlite3.Cursor at 0x1a7232cb110>"
      ]
     },
     "execution_count": 22,
     "metadata": {},
     "output_type": "execute_result"
    }
   ],
   "source": [
    "crsc.execute(\"SELECT * FROM Table1\")\n"
   ]
  },
  {
   "cell_type": "code",
   "execution_count": 23,
   "metadata": {
    "id": "26S0Z6pKKGU-"
   },
   "outputs": [],
   "source": [
    "ans=crsc.description"
   ]
  },
  {
   "cell_type": "code",
   "execution_count": 24,
   "metadata": {
    "colab": {
     "base_uri": "https://localhost:8080/"
    },
    "id": "OAuYGW8-KNeK",
    "outputId": "f8c0c3fc-6cd1-4e22-e61b-ea42066dc928"
   },
   "outputs": [
    {
     "name": "stdout",
     "output_type": "stream",
     "text": [
      "('index', None, None, None, None, None, None)\n",
      "('Exam', None, None, None, None, None, None)\n",
      "('Organisation', None, None, None, None, None, None)\n",
      "('Qualification', None, None, None, None, None, None)\n",
      "('Salary', None, None, None, None, None, None)\n",
      "('Minage', None, None, None, None, None, None)\n",
      "('Maxage', None, None, None, None, None, None)\n",
      "('Allowance', None, None, None, None, None, None)\n",
      "('ExamMode', None, None, None, None, None, None)\n",
      "('Fee', None, None, None, None, None, None)\n",
      "('Level', None, None, None, None, None, None)\n",
      "('Ptest', None, None, None, None, None, None)\n",
      "('Website', None, None, None, None, None, None)\n",
      "('Fields', None, None, None, None, None, None)\n",
      "('Attempts', None, None, None, None, None, None)\n",
      "('Pattempts', None, None, None, None, None, None)\n",
      "('Unnamed: 15', None, None, None, None, None, None)\n",
      "('Unnamed: 16', None, None, None, None, None, None)\n",
      "('Unnamed: 17', None, None, None, None, None, None)\n",
      "('Unnamed: 18', None, None, None, None, None, None)\n",
      "('Unnamed: 19', None, None, None, None, None, None)\n",
      "('Unnamed: 20', None, None, None, None, None, None)\n",
      "('Unnamed: 21', None, None, None, None, None, None)\n"
     ]
    }
   ],
   "source": [
    "for x in ans:\n",
    "  print(x)"
   ]
  },
  {
   "cell_type": "code",
   "execution_count": null,
   "metadata": {
    "id": "A1_yuI4lKQ87"
   },
   "outputs": [],
   "source": []
  },
  {
   "cell_type": "code",
   "execution_count": null,
   "metadata": {},
   "outputs": [],
   "source": []
  }
 ],
 "metadata": {
  "colab": {
   "collapsed_sections": [],
   "name": "Untitled12.ipynb",
   "provenance": []
  },
  "kernelspec": {
   "display_name": "Python 3",
   "language": "python",
   "name": "python3"
  },
  "language_info": {
   "codemirror_mode": {
    "name": "ipython",
    "version": 3
   },
   "file_extension": ".py",
   "mimetype": "text/x-python",
   "name": "python",
   "nbconvert_exporter": "python",
   "pygments_lexer": "ipython3",
   "version": "3.6.12"
  }
 },
 "nbformat": 4,
 "nbformat_minor": 1
}
