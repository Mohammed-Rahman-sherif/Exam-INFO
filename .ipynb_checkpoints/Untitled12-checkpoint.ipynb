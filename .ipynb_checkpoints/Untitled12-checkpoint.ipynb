{
 "cells": [
  {
   "cell_type": "code",
   "execution_count": 1,
   "metadata": {
    "id": "VZsLagxU-iVI"
   },
   "outputs": [],
   "source": [
    "import sqlite3"
   ]
  },
  {
   "cell_type": "code",
   "execution_count": 2,
   "metadata": {
    "id": "vrM0d21C_FZO"
   },
   "outputs": [],
   "source": [
    "dbname=\"jobinfo\""
   ]
  },
  {
   "cell_type": "code",
   "execution_count": 3,
   "metadata": {
    "id": "Qt1Og-7j_KX3"
   },
   "outputs": [],
   "source": [
    "conn=sqlite3.connect(dbname+\".db\")"
   ]
  },
  {
   "cell_type": "code",
   "execution_count": 4,
   "metadata": {
    "id": "wggT4Q8p_Rl-"
   },
   "outputs": [
    {
     "name": "stderr",
     "output_type": "stream",
     "text": [
      "C:\\Users\\smart\\Anaconda3\\envs\\workspace\\lib\\site-packages\\numpy\\_distributor_init.py:32: UserWarning: loaded more than 1 DLL from .libs:\n",
      "C:\\Users\\smart\\Anaconda3\\envs\\workspace\\lib\\site-packages\\numpy\\.libs\\libopenblas.PYQHXLVVQ7VESDPUVUADXEVJOBGHJPAY.gfortran-win_amd64.dll\n",
      "C:\\Users\\smart\\Anaconda3\\envs\\workspace\\lib\\site-packages\\numpy\\.libs\\libopenblas.QVLO2T66WEPI7JZ63PS3HMOHFEY472BC.gfortran-win_amd64.dll\n",
      "  stacklevel=1)\n"
     ]
    }
   ],
   "source": [
    "import pandas as pd\n",
    "import numpy as np\n",
    "\n"
   ]
  },
  {
   "cell_type": "code",
   "execution_count": 7,
   "metadata": {
    "id": "-Eh3IiwG_alo"
   },
   "outputs": [],
   "source": [
    "df=pd.read_excel(\"Job_info_app.xlsx\", engine = 'openpyxl')"
   ]
  },
  {
   "cell_type": "code",
   "execution_count": 8,
   "metadata": {
    "colab": {
     "base_uri": "https://localhost:8080/"
    },
    "id": "QyStTQ5YAkcH",
    "outputId": "41e6d7f7-02d1-4c39-b1ed-6541b65df5c1"
   },
   "outputs": [
    {
     "data": {
      "text/plain": [
       "Index(['JOB Title', 'Exam conducting body', 'Minimum Qualification',\n",
       "       'Salary Range', 'minimum age', 'maximum age', 'caste based allowance',\n",
       "       'MODE OF EXAMINATION', 'APPLICATION FEE', 'Stages', 'PHYSICAL TEST ',\n",
       "       'OFFICIAL WEBSITE', 'FIELD OF EXAM', 'ATTEMPTS', 'HANDICAPPED-ATTEMPTS',\n",
       "       'Unnamed: 15', 'Unnamed: 16', 'Unnamed: 17', 'Unnamed: 18',\n",
       "       'Unnamed: 19', 'Unnamed: 20', 'Unnamed: 21'],\n",
       "      dtype='object')"
      ]
     },
     "execution_count": 8,
     "metadata": {},
     "output_type": "execute_result"
    }
   ],
   "source": [
    "df.columns"
   ]
  },
  {
   "cell_type": "code",
   "execution_count": 9,
   "metadata": {
    "id": "PXR6ZzKbAlP0"
   },
   "outputs": [],
   "source": [
    "newname=df.rename(columns={\"JOB Title\":\"Exam\",\"Exam conducting body\":\"Organisation\",\"Minimum Qualification\":\"Qualification\",'Salary Range':\"Salary\",'minimum age':\"Minage\",'maximum age':\"Maxage\",'caste based allowance':\"Allowance\",'MODE OF EXAMINATION':\"ExamMode\",\"APPLICATION FEE\":\"Fee\",\"Stages\":\"Level\",'PHYSICAL TEST ':\"Ptest\",\"OFFICIAL WEBSITE\":\"Website\",\"FIELD OF EXAM\":\"Fields\",\"ATTEMPTS\":\"Attempts\",'HANDICAPPED-ATTEMPTS':\"Pattempts\"})"
   ]
  },
  {
   "cell_type": "code",
   "execution_count": 10,
   "metadata": {
    "colab": {
     "base_uri": "https://localhost:8080/"
    },
    "id": "sz6VAWOGB3ys",
    "outputId": "75240339-6602-425b-f381-57e5f7713fdb"
   },
   "outputs": [
    {
     "data": {
      "text/plain": [
       "Index(['Exam', 'Organisation', 'Qualification', 'Salary', 'Minage', 'Maxage',\n",
       "       'Allowance', 'ExamMode', 'Fee', 'Level', 'Ptest', 'Website', 'Fields',\n",
       "       'Attempts', 'Pattempts', 'Unnamed: 15', 'Unnamed: 16', 'Unnamed: 17',\n",
       "       'Unnamed: 18', 'Unnamed: 19', 'Unnamed: 20', 'Unnamed: 21'],\n",
       "      dtype='object')"
      ]
     },
     "execution_count": 10,
     "metadata": {},
     "output_type": "execute_result"
    }
   ],
   "source": [
    "newname.columns"
   ]
  },
  {
   "cell_type": "code",
   "execution_count": 11,
   "metadata": {
    "id": "0AMbyGPyDoPI"
   },
   "outputs": [],
   "source": [
    "newname.to_csv(\"exams.csv\")"
   ]
  },
  {
   "cell_type": "code",
   "execution_count": null,
   "metadata": {
    "id": "4HizfqzoVJZz"
   },
   "outputs": [],
   "source": []
  },
  {
   "cell_type": "code",
   "execution_count": 12,
   "metadata": {
    "id": "IVV9m4BTEHW1"
   },
   "outputs": [],
   "source": [
    "dfg=pd.read_csv(\"exams.csv\")"
   ]
  },
  {
   "cell_type": "code",
   "execution_count": 13,
   "metadata": {
    "colab": {
     "base_uri": "https://localhost:8080/"
    },
    "id": "7zp4BfEgVLZj",
    "outputId": "850644e3-8275-4b1d-db8f-0fe3f9e4ad63"
   },
   "outputs": [
    {
     "data": {
      "text/plain": [
       "Index(['Unnamed: 0', 'Exam', 'Organisation', 'Qualification', 'Salary',\n",
       "       'Minage', 'Maxage', 'Allowance', 'ExamMode', 'Fee', 'Level', 'Ptest',\n",
       "       'Website', 'Fields', 'Attempts', 'Pattempts', 'Unnamed: 15',\n",
       "       'Unnamed: 16', 'Unnamed: 17', 'Unnamed: 18', 'Unnamed: 19',\n",
       "       'Unnamed: 20', 'Unnamed: 21'],\n",
       "      dtype='object')"
      ]
     },
     "execution_count": 13,
     "metadata": {},
     "output_type": "execute_result"
    }
   ],
   "source": [
    "dfg.columns"
   ]
  },
  {
   "cell_type": "code",
   "execution_count": 14,
   "metadata": {
    "id": "IRCIXP2OaA0i"
   },
   "outputs": [],
   "source": [
    "dfg['Minage']=dfg['Minage'].replace(\"NIL\",0)\n",
    "dfg[\"Maxage\"]=dfg[\"Maxage\"].replace(\"NIL\",0)\n",
    "dfg[\"Maxage\"]=dfg[\"Maxage\"].replace(\"na\",0)\n",
    "dfg[\"Minage\"]=dfg['Minage'].fillna(0)\n",
    "dfg[\"Maxage\"]=dfg[\"Maxage\"].fillna(0)"
   ]
  },
  {
   "cell_type": "code",
   "execution_count": 15,
   "metadata": {
    "id": "wmGCDCoddVmN"
   },
   "outputs": [],
   "source": [
    "dfg=dfg.drop(\"Unnamed: 0\",1)"
   ]
  },
  {
   "cell_type": "code",
   "execution_count": null,
   "metadata": {
    "id": "SpP1Vg2QL0bQ"
   },
   "outputs": [],
   "source": []
  },
  {
   "cell_type": "code",
   "execution_count": 16,
   "metadata": {
    "colab": {
     "base_uri": "https://localhost:8080/"
    },
    "id": "2udMeJolZG2s",
    "outputId": "91f4f72f-dcdc-4b4a-91f7-5b40bcc68ed4"
   },
   "outputs": [
    {
     "data": {
      "text/plain": [
       "0      32\n",
       "1      30\n",
       "2      32\n",
       "3      32\n",
       "4      32\n",
       "       ..\n",
       "994     0\n",
       "995     0\n",
       "996     0\n",
       "997     0\n",
       "998     0\n",
       "Name: Maxage, Length: 999, dtype: object"
      ]
     },
     "execution_count": 16,
     "metadata": {},
     "output_type": "execute_result"
    }
   ],
   "source": [
    "dfg['Maxage']"
   ]
  },
  {
   "cell_type": "code",
   "execution_count": 17,
   "metadata": {
    "colab": {
     "base_uri": "https://localhost:8080/"
    },
    "id": "eYGvhBMtbAiP",
    "outputId": "b4c961d4-07f7-4673-9d5a-888e5fb57177"
   },
   "outputs": [
    {
     "data": {
      "text/plain": [
       "Exam              object\n",
       "Organisation      object\n",
       "Qualification     object\n",
       "Salary            object\n",
       "Minage            object\n",
       "Maxage             int64\n",
       "Allowance         object\n",
       "ExamMode          object\n",
       "Fee               object\n",
       "Level             object\n",
       "Ptest             object\n",
       "Website           object\n",
       "Fields            object\n",
       "Attempts          object\n",
       "Pattempts         object\n",
       "Unnamed: 15      float64\n",
       "Unnamed: 16      float64\n",
       "Unnamed: 17      float64\n",
       "Unnamed: 18      float64\n",
       "Unnamed: 19      float64\n",
       "Unnamed: 20      float64\n",
       "Unnamed: 21      float64\n",
       "dtype: object"
      ]
     },
     "execution_count": 17,
     "metadata": {},
     "output_type": "execute_result"
    }
   ],
   "source": [
    "dfg.astype({\"Minage\":\"int64\"}).dtypes\n",
    "dfg.astype({\"Maxage\":\"int64\"}).dtypes"
   ]
  },
  {
   "cell_type": "code",
   "execution_count": 18,
   "metadata": {
    "colab": {
     "base_uri": "https://localhost:8080/"
    },
    "id": "v4t4sxFrb6jU",
    "outputId": "cee7e665-ccf6-4209-9eb1-3b92a3910743"
   },
   "outputs": [
    {
     "data": {
      "text/plain": [
       "Exam              object\n",
       "Organisation      object\n",
       "Qualification     object\n",
       "Salary            object\n",
       "Minage            object\n",
       "Maxage            object\n",
       "Allowance         object\n",
       "ExamMode          object\n",
       "Fee               object\n",
       "Level             object\n",
       "Ptest             object\n",
       "Website           object\n",
       "Fields            object\n",
       "Attempts          object\n",
       "Pattempts         object\n",
       "Unnamed: 15      float64\n",
       "Unnamed: 16      float64\n",
       "Unnamed: 17      float64\n",
       "Unnamed: 18      float64\n",
       "Unnamed: 19      float64\n",
       "Unnamed: 20      float64\n",
       "Unnamed: 21      float64\n",
       "dtype: object"
      ]
     },
     "execution_count": 18,
     "metadata": {},
     "output_type": "execute_result"
    }
   ],
   "source": [
    "dfg.dtypes"
   ]
  },
  {
   "cell_type": "code",
   "execution_count": 19,
   "metadata": {
    "colab": {
     "base_uri": "https://localhost:8080/"
    },
    "id": "xFUtUD2QWhs3",
    "outputId": "95eb8552-9b14-4ce1-d5c7-c6dc90807077"
   },
   "outputs": [
    {
     "data": {
      "text/plain": [
       "Exam              object\n",
       "Organisation      object\n",
       "Qualification     object\n",
       "Salary            object\n",
       "Minage            object\n",
       "Maxage            object\n",
       "Allowance         object\n",
       "ExamMode          object\n",
       "Fee               object\n",
       "Level             object\n",
       "Ptest             object\n",
       "Website           object\n",
       "Fields            object\n",
       "Attempts          object\n",
       "Pattempts         object\n",
       "Unnamed: 15      float64\n",
       "Unnamed: 16      float64\n",
       "Unnamed: 17      float64\n",
       "Unnamed: 18      float64\n",
       "Unnamed: 19      float64\n",
       "Unnamed: 20      float64\n",
       "Unnamed: 21      float64\n",
       "dtype: object"
      ]
     },
     "execution_count": 19,
     "metadata": {},
     "output_type": "execute_result"
    }
   ],
   "source": [
    "dfg.dtypes"
   ]
  },
  {
   "cell_type": "code",
   "execution_count": null,
   "metadata": {
    "id": "7PVOl-6YIONN"
   },
   "outputs": [],
   "source": []
  },
  {
   "cell_type": "code",
   "execution_count": 20,
   "metadata": {
    "id": "mg5pS6xVHg2t"
   },
   "outputs": [
    {
     "name": "stderr",
     "output_type": "stream",
     "text": [
      "C:\\Users\\smart\\Anaconda3\\envs\\workspace\\lib\\site-packages\\pandas\\core\\generic.py:2615: UserWarning: The spaces in these column names will not be changed. In pandas versions < 0.14, spaces were converted to underscores.\n",
      "  method=method,\n"
     ]
    }
   ],
   "source": [
    "dfg.to_sql(name=\"Table1\",con=conn,if_exists=\"append\")"
   ]
  },
  {
   "cell_type": "code",
   "execution_count": 21,
   "metadata": {
    "id": "m9KSqkyJJAAL"
   },
   "outputs": [],
   "source": [
    "cns=sqlite3.connect(\"jobinfo.db\")"
   ]
  },
  {
   "cell_type": "code",
   "execution_count": 22,
   "metadata": {
    "id": "pSJYNzAEJqDD"
   },
   "outputs": [],
   "source": [
    "crsc=cns.cursor()"
   ]
  },
  {
   "cell_type": "code",
   "execution_count": 23,
   "metadata": {
    "colab": {
     "base_uri": "https://localhost:8080/"
    },
    "id": "vppnpNsSJ0IQ",
    "outputId": "de1b58ce-c71f-41e5-bad2-6bda5332aafe"
   },
   "outputs": [
    {
     "data": {
      "text/plain": [
       "<sqlite3.Cursor at 0x21420e887a0>"
      ]
     },
     "execution_count": 23,
     "metadata": {},
     "output_type": "execute_result"
    }
   ],
   "source": [
    "crsc.execute(\"SELECT * FROM Table1\")\n"
   ]
  },
  {
   "cell_type": "code",
   "execution_count": 24,
   "metadata": {
    "id": "26S0Z6pKKGU-"
   },
   "outputs": [],
   "source": [
    "ans=crsc.description"
   ]
  },
  {
   "cell_type": "code",
   "execution_count": 25,
   "metadata": {
    "colab": {
     "base_uri": "https://localhost:8080/"
    },
    "id": "OAuYGW8-KNeK",
    "outputId": "f8c0c3fc-6cd1-4e22-e61b-ea42066dc928"
   },
   "outputs": [
    {
     "name": "stdout",
     "output_type": "stream",
     "text": [
      "('index', None, None, None, None, None, None)\n",
      "('Exam', None, None, None, None, None, None)\n",
      "('Organisation', None, None, None, None, None, None)\n",
      "('Qualification', None, None, None, None, None, None)\n",
      "('Salary', None, None, None, None, None, None)\n",
      "('Minage', None, None, None, None, None, None)\n",
      "('Maxage', None, None, None, None, None, None)\n",
      "('Allowance', None, None, None, None, None, None)\n",
      "('ExamMode', None, None, None, None, None, None)\n",
      "('Fee', None, None, None, None, None, None)\n",
      "('Level', None, None, None, None, None, None)\n",
      "('Ptest', None, None, None, None, None, None)\n",
      "('Website', None, None, None, None, None, None)\n",
      "('Fields', None, None, None, None, None, None)\n",
      "('Attempts', None, None, None, None, None, None)\n",
      "('Pattempts', None, None, None, None, None, None)\n",
      "('Unnamed: 15', None, None, None, None, None, None)\n",
      "('Unnamed: 16', None, None, None, None, None, None)\n",
      "('Unnamed: 17', None, None, None, None, None, None)\n",
      "('Unnamed: 18', None, None, None, None, None, None)\n",
      "('Unnamed: 19', None, None, None, None, None, None)\n",
      "('Unnamed: 20', None, None, None, None, None, None)\n",
      "('Unnamed: 21', None, None, None, None, None, None)\n"
     ]
    }
   ],
   "source": [
    "for x in ans:\n",
    "  print(x)"
   ]
  },
  {
   "cell_type": "code",
   "execution_count": null,
   "metadata": {
    "id": "A1_yuI4lKQ87"
   },
   "outputs": [],
   "source": []
  },
  {
   "cell_type": "code",
   "execution_count": null,
   "metadata": {},
   "outputs": [],
   "source": []
  }
 ],
 "metadata": {
  "colab": {
   "collapsed_sections": [],
   "name": "Untitled12.ipynb",
   "provenance": []
  },
  "kernelspec": {
   "display_name": "Python 3",
   "language": "python",
   "name": "python3"
  },
  "language_info": {
   "codemirror_mode": {
    "name": "ipython",
    "version": 3
   },
   "file_extension": ".py",
   "mimetype": "text/x-python",
   "name": "python",
   "nbconvert_exporter": "python",
   "pygments_lexer": "ipython3",
   "version": "3.6.12"
  }
 },
 "nbformat": 4,
 "nbformat_minor": 1
}
